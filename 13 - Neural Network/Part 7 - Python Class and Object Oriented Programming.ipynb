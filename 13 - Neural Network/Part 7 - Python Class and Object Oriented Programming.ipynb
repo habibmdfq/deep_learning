{
 "cells": [
  {
   "cell_type": "code",
   "execution_count": 1,
   "id": "9454c2cb",
   "metadata": {},
   "outputs": [],
   "source": [
    "class Manusia:\n",
    "    def __init__(self, warna_rambut, tinggi=150, berat=60):\n",
    "        self.warna_rambut = warna_rambut\n",
    "        self.tinggi = tinggi\n",
    "        self.berat = berat\n",
    "\n",
    "    def cat_rambutnya(self, warna):\n",
    "        self.warna_rambut = warna\n",
    "        print(f\"Rambutnya jadi warna {warna}\")\n",
    "\n",
    "    def BMI(self):\n",
    "        return self.berat / self.tinggi ** 2"
   ]
  },
  {
   "cell_type": "markdown",
   "id": "f9418db2",
   "metadata": {},
   "source": [
    "# Inheritance"
   ]
  },
  {
   "cell_type": "code",
   "execution_count": 2,
   "id": "01547b8d",
   "metadata": {},
   "outputs": [],
   "source": [
    "class Mahasiswa(Manusia):\n",
    "    def __init__(self, warna_rambut, tinggi, berat, univ):\n",
    "        super().__init__(warna_rambut, tinggi, berat)\n",
    "        self.universitas = univ\n",
    "\n",
    "    def pindah_univ(self, univ_baru):\n",
    "        self.universitas = univ_baru\n"
   ]
  },
  {
   "cell_type": "markdown",
   "id": "389ff3c4",
   "metadata": {},
   "source": [
    "# Pytorch NN Module"
   ]
  },
  {
   "cell_type": "code",
   "execution_count": 3,
   "id": "87bf081b",
   "metadata": {},
   "outputs": [],
   "source": [
    "import torch\n",
    "from torch import nn"
   ]
  },
  {
   "cell_type": "code",
   "execution_count": 5,
   "id": "e600065b",
   "metadata": {},
   "outputs": [],
   "source": [
    "class CustomNN(nn.Module):\n",
    "    def __init__(self, input_size, output_size):\n",
    "        super().__init__()\n",
    "        self.fc = nn.Sequential(\n",
    "            nn.Linear(input_size, 16),\n",
    "            nn.ReLU(),\n",
    "            nn.Linear(16, 8),\n",
    "            nn.ReLU(),\n",
    "            nn.Linear(8, output_size),\n",
    "            nn.Sigmoid()\n",
    "        )\n",
    "\n",
    "    def forward(self, x):\n",
    "        return self.fc(x)\n"
   ]
  },
  {
   "cell_type": "code",
   "execution_count": null,
   "id": "79eb1165",
   "metadata": {},
   "outputs": [],
   "source": [
    "import torch.nn as nn\n",
    "\n",
    "class FaceBiometric(nn.Module):\n",
    "    def __init__(self, input_size, output_size):\n",
    "        super().__init__()\n",
    "\n",
    "        self.fc = nn.Sequential(\n",
    "            nn.Linear(input_size, 16),\n",
    "            nn.ReLU()\n",
    "        )\n",
    "\n",
    "        self.reg = nn.Linear(16, 4)  # Untuk regresi\n",
    "        self.clf = nn.Sequential(    # Untuk klasifikasi\n",
    "            nn.Linear(16, 4),\n",
    "            nn.Sigmoid()\n",
    "        )\n",
    "\n",
    "    def forward(self, x):\n",
    "        x = self.fc(x)\n",
    "        pred_reg = self.reg(x)\n",
    "        pred_clf = self.clf(x)\n",
    "        return pred_reg, pred_clf"
   ]
  },
  {
   "cell_type": "code",
   "execution_count": 6,
   "id": "06d3b4dd",
   "metadata": {},
   "outputs": [],
   "source": [
    "model = CustomNN(7, 1)\n"
   ]
  },
  {
   "cell_type": "code",
   "execution_count": 7,
   "id": "10ef83bc",
   "metadata": {},
   "outputs": [],
   "source": [
    "contoh_data = torch.rand(100, 7)"
   ]
  },
  {
   "cell_type": "code",
   "execution_count": 8,
   "id": "780dd3ea",
   "metadata": {},
   "outputs": [
    {
     "data": {
      "text/plain": [
       "tensor([[0.3990],\n",
       "        [0.4119],\n",
       "        [0.4176],\n",
       "        [0.4092],\n",
       "        [0.4053],\n",
       "        [0.4023],\n",
       "        [0.4122],\n",
       "        [0.4061],\n",
       "        [0.4104],\n",
       "        [0.4045],\n",
       "        [0.4083],\n",
       "        [0.4096],\n",
       "        [0.4141],\n",
       "        [0.4124],\n",
       "        [0.4156],\n",
       "        [0.4121],\n",
       "        [0.4000],\n",
       "        [0.4106],\n",
       "        [0.4141],\n",
       "        [0.4085],\n",
       "        [0.4143],\n",
       "        [0.4055],\n",
       "        [0.4020],\n",
       "        [0.3974],\n",
       "        [0.4142],\n",
       "        [0.4044],\n",
       "        [0.4076],\n",
       "        [0.4111],\n",
       "        [0.4139],\n",
       "        [0.3967],\n",
       "        [0.4054],\n",
       "        [0.4025],\n",
       "        [0.4190],\n",
       "        [0.4012],\n",
       "        [0.4116],\n",
       "        [0.4055],\n",
       "        [0.4082],\n",
       "        [0.4185],\n",
       "        [0.4116],\n",
       "        [0.4148],\n",
       "        [0.4050],\n",
       "        [0.4108],\n",
       "        [0.4116],\n",
       "        [0.4020],\n",
       "        [0.4117],\n",
       "        [0.4029],\n",
       "        [0.4048],\n",
       "        [0.4097],\n",
       "        [0.4125],\n",
       "        [0.4029],\n",
       "        [0.4177],\n",
       "        [0.4157],\n",
       "        [0.4109],\n",
       "        [0.4010],\n",
       "        [0.4087],\n",
       "        [0.4099],\n",
       "        [0.4096],\n",
       "        [0.4144],\n",
       "        [0.4121],\n",
       "        [0.4014],\n",
       "        [0.4126],\n",
       "        [0.4085],\n",
       "        [0.4061],\n",
       "        [0.4132],\n",
       "        [0.4010],\n",
       "        [0.4047],\n",
       "        [0.3972],\n",
       "        [0.4099],\n",
       "        [0.4046],\n",
       "        [0.4138],\n",
       "        [0.4147],\n",
       "        [0.4053],\n",
       "        [0.4049],\n",
       "        [0.4124],\n",
       "        [0.4030],\n",
       "        [0.4123],\n",
       "        [0.4136],\n",
       "        [0.4214],\n",
       "        [0.4156],\n",
       "        [0.4173],\n",
       "        [0.4159],\n",
       "        [0.4145],\n",
       "        [0.4090],\n",
       "        [0.4143],\n",
       "        [0.4048],\n",
       "        [0.4127],\n",
       "        [0.4069],\n",
       "        [0.4052],\n",
       "        [0.4122],\n",
       "        [0.4034],\n",
       "        [0.4082],\n",
       "        [0.4140],\n",
       "        [0.4102],\n",
       "        [0.4084],\n",
       "        [0.4058],\n",
       "        [0.4090],\n",
       "        [0.4140],\n",
       "        [0.4102],\n",
       "        [0.4032],\n",
       "        [0.4126]], grad_fn=<SigmoidBackward0>)"
      ]
     },
     "execution_count": 8,
     "metadata": {},
     "output_type": "execute_result"
    }
   ],
   "source": [
    "output = model(contoh_data)\n",
    "output"
   ]
  }
 ],
 "metadata": {
  "kernelspec": {
   "display_name": "jcopdl",
   "language": "python",
   "name": "python3"
  },
  "language_info": {
   "codemirror_mode": {
    "name": "ipython",
    "version": 3
   },
   "file_extension": ".py",
   "mimetype": "text/x-python",
   "name": "python",
   "nbconvert_exporter": "python",
   "pygments_lexer": "ipython3",
   "version": "3.9.10"
  }
 },
 "nbformat": 4,
 "nbformat_minor": 5
}
